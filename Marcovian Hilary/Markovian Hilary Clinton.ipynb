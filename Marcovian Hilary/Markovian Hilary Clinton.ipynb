{
 "cells": [
  {
   "cell_type": "markdown",
   "metadata": {},
   "source": [
    "# The following code uses Hiliary Clinton's emails as a corpus for creating new emails using a Markov Chain."
   ]
  },
  {
   "cell_type": "code",
   "execution_count": 15,
   "metadata": {
    "_cell_guid": "617fd238-dc32-4747-9842-e3d0db41a232",
    "_uuid": "f3665f523cf2ca6be03097b0c3293d8d767c3723",
    "collapsed": false
   },
   "outputs": [],
   "source": [
    "# Generating speech using Hilary's email as Corpus\n",
    "import pandas as pd\n",
    "import sqlite3\n",
    "\n",
    "conn = sqlite3.connect(\"input/database.sqlite\")\n",
    "query = \"SELECT * FROM Emails;\"\n",
    "\n",
    "# #Import email body text and convert to corpus\n",
    "emaildf = pd.read_sql_query(query,conn)\n",
    "corpus = \"\"\"r\"\"\"\n",
    "for row in emaildf[\"ExtractedBodyText\"]:\n",
    "    corpus += str(row)"
   ]
  },
  {
   "cell_type": "code",
   "execution_count": 16,
   "metadata": {
    "_cell_guid": "1c1726f6-9de5-42af-bf98-1b085138c35d",
    "_uuid": "b4a7daa35396416a6ed51110d7066e88f2887d77",
    "collapsed": true
   },
   "outputs": [],
   "source": [
    "# modified from http://agiliq.com/blog/2009/06/generating-pseudo-random-text-with-markov-chains-u/\n",
    "import random\n",
    "\n",
    "class Markov(object):\n",
    "\n",
    "\tdef __init__(self, corpus, chain_size=3):\n",
    "\t\tself.chain_size = chain_size\n",
    "\t\tself.cache = {}\n",
    "\t\t\n",
    "\t\tself.words = corpus.split()\n",
    "\t\tself.word_size = len(self.words)\n",
    "\t\tself.database()\n",
    "\n",
    "\tdef words_at_position(self, i):\n",
    "\t\t\"\"\"Uses the chain size to find a list of the words at an index.\"\"\"\n",
    "\t\tchain = []\n",
    "\t\tfor chain_index in range(0, self.chain_size):\n",
    "\t\t\tchain.append(self.words[i + chain_index])\n",
    "\t\treturn chain\n",
    "\n",
    "\tdef chains(self):\n",
    "\t\t\"\"\"Generates chains from the given data string based on passed chain size.\n",
    "\t\tSo if our string were:\n",
    "\t\t\t\"What a lovely day\"\n",
    "\t\tWith a chain size of 3, we'd generate:\n",
    "\t\t\t(What, a, lovely)\n",
    "\t\tand\n",
    "\t\t\t(a, lovely, day)\n",
    "\t\t\"\"\"\n",
    "\n",
    "\t\tif len(self.words) < self.chain_size:\n",
    "\t\t\treturn\n",
    "\n",
    "\t\tfor i in range(len(self.words) - self.chain_size - 1):\n",
    "\t\t\tyield tuple(self.words_at_position(i))\n",
    "\n",
    "\tdef database(self):\n",
    "\t\tfor chain_set in self.chains():\n",
    "\t\t\tkey = chain_set[:self.chain_size - 1]\n",
    "\t\t\tnext_word = chain_set[-1]\n",
    "\t\t\tif key in self.cache:\n",
    "\t\t\t\tself.cache[key].append(next_word)\n",
    "\t\t\telse:\n",
    "\t\t\t\tself.cache[key] = [next_word]\n",
    "\n",
    "\tdef generate_markov_text(self, size=25):\n",
    "\t\tseed = random.randint(0, self.word_size - 3)\n",
    "\t\tgen_words = []\n",
    "\t\tseed_words = self.words_at_position(seed)[:-1]\n",
    "\t\tgen_words.extend(seed_words)\n",
    "\t\tfor i in range(size):\n",
    "\t\t\tlast_word_len = self.chain_size - 1\n",
    "\t\t\tlast_words = gen_words[-1 * last_word_len:]\n",
    "\t\t\tnext_word = random.choice(self.cache[tuple(last_words)])\n",
    "\t\t\tgen_words.append(next_word)\n",
    "\t\treturn ' '.join(gen_words)\n",
    "    \n",
    "markov = Markov(corpus)"
   ]
  },
  {
   "cell_type": "markdown",
   "metadata": {},
   "source": [
    "# Just re-run the following cell to get different results"
   ]
  },
  {
   "cell_type": "code",
   "execution_count": 18,
   "metadata": {
    "_cell_guid": "f7acc4aa-3413-49da-b018-e91050a4bb27",
    "_uuid": "4bf9f50e388d3af79ecf6b463c53616b290d1b92",
    "collapsed": false
   },
   "outputs": [
    {
     "name": "stdout",
     "output_type": "stream",
     "text": [
      "1: \n",
      "proximity talks. This is another contender, with a large enough platform for business, NGOs, and academia to provide relief services in Haiti's slums. This program could be killed or wounded in the country and earning condemnation from his father. Fred Koch's will made his first 100 days\n",
      "2: \n",
      "actions our belief that their leadership has decided not to topple the gov't.FYISenkaku is the update is this issue on your desk before I leave on Thursday.Not at first. I need to take on China anymore. The presumption here is possibility:We have a good move right after\n",
      "3: \n",
      "state media reported on Thursday, bringing to justice those who did not have the plan for gender mainstreaming. Many greetings extended to you -- for your briefing and advice this past March, Sarkozy's UMP party is angry that it would appear soon enough. It always takes time\n",
      "4: \n",
      "minority report called \"an audacious plan to go home and said that a mandate on employers to provide more trainers. We asked Dan Kurtzer to call me back to the voices of ordinary Americans. They\"re working for you work-wise.Lissa is out there. Obama seems to suggest that\n",
      "5: \n",
      "real cost savings. There's no surer way to run this experiment without hurting hundreds of millions of Americans, including U.S. Navy engineers, a contingent of self- mutilating liberal Democrats who voted Conservative, Rafsanjani, and Reformist in 2005, after Prime Minister Benjamin Netanyahu said no. Most important, they\n",
      "6: \n",
      "are we on this?PIs call me when ready. Thx.Later--how about 10? That way I can do at 10. Can I commit to a large check. So far, young people to accept. Muasher advocates a regional organisation embracing everyone from Gates to tell him about lack of career\n",
      "7: \n",
      "the greatest possibility of the Gulf underscore that the [Wiking] website. And you'll find quite useful. I think some very good natural editor,\" Mr. Fox, reached by e- mail, says of Mr. Obama's inner circle to move, but she escaped and made an indelible part of the\n",
      "8: \n",
      "Pakistan and the US for many possible outcomes regarding Iran's nuclear program or policy-relevant social science issues and author of The New York to protest outside the system looks a lot of punditry), but he cannot do in private donations from Chernick has provided Pakistan with several\n",
      "9: \n",
      "millionaires and multinationals and fiscal stimulus, or increased exports due to unaddressed national security interests, and the world, the United States is here, first and most fear, about the possibility of strategic - that they would come and extract the latrines or properly train people to and\n",
      "10: \n",
      "fees. A nervous young man leaped from the pretenders. \"There will always be a selective involvement; Mitchell still must be a very different evolutionary starting point. It was the chief political correspondent • guardian.co.uk, Sunday 7 March 2010 17.36 GMT • X British and Scottish govts. Can\n"
     ]
    }
   ],
   "source": [
    "email_length = 45 # the number of words to have in the email\n",
    "for i in range(10):\n",
    "    print(str(i+1)+\": \")\n",
    "    print(markov.generate_markov_text(email_length))"
   ]
  },
  {
   "cell_type": "code",
   "execution_count": null,
   "metadata": {
    "_cell_guid": "a8a7cab4-8580-4e54-9a97-7257441abb3a",
    "_uuid": "d30aaed279f4e1c8700d8aeee3be2aefbf3ce453",
    "collapsed": true
   },
   "outputs": [],
   "source": []
  }
 ],
 "metadata": {
  "anaconda-cloud": {},
  "kernelspec": {
   "display_name": "Python [default]",
   "language": "python",
   "name": "python3"
  },
  "language_info": {
   "codemirror_mode": {
    "name": "ipython",
    "version": 3
   },
   "file_extension": ".py",
   "mimetype": "text/x-python",
   "name": "python",
   "nbconvert_exporter": "python",
   "pygments_lexer": "ipython3",
   "version": "3.5.2"
  }
 },
 "nbformat": 4,
 "nbformat_minor": 1
}
